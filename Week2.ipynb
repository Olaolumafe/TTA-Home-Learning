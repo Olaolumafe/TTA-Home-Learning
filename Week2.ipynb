{
 "cells": [
  {
   "cell_type": "code",
   "execution_count": 12,
   "metadata": {},
   "outputs": [
    {
     "name": "stdout",
     "output_type": "stream",
     "text": [
      "Hello Ola Mafe\n"
     ]
    }
   ],
   "source": [
    "#1b\n",
    "def Hello():\n",
    "    name=str(input (\"Please type in your first name:\"))\n",
    "    print (\"Hello \" + str(name))\n",
    "    return\n",
    "Hello ()"
   ]
  },
  {
   "cell_type": "code",
   "execution_count": 35,
   "metadata": {},
   "outputs": [
    {
     "name": "stdout",
     "output_type": "stream",
     "text": [
      "Hello  Ola\n"
     ]
    }
   ],
   "source": [
    "user_input = input(\"Please tell me your name\")\n",
    "\n",
    "print(\"Hello \", user_input)"
   ]
  },
  {
   "cell_type": "code",
   "execution_count": 24,
   "metadata": {},
   "outputs": [
    {
     "name": "stdout",
     "output_type": "stream",
     "text": [
      "Your chosen number is 4\n"
     ]
    }
   ],
   "source": [
    "#1a\n",
    "import random\n",
    "random_number = random.randint(1, 10)\n",
    "print(\"Your chosen number is\" , random_number)\n"
   ]
  },
  {
   "cell_type": "code",
   "execution_count": 37,
   "metadata": {},
   "outputs": [
    {
     "name": "stdout",
     "output_type": "stream",
     "text": [
      "Awww Ola You are wrong. You guessed 6 The correct number is: 7\n"
     ]
    }
   ],
   "source": [
    "#1c\n",
    "import random\n",
    "random_number = random.randint(1, 10)\n",
    "guess_number = int(input (\"Please choose a number between 1 and 10\"))\n",
    "\n",
    "if random_number == guess_number:   \n",
    "    print (\"Great! ,  You are correct\" , user_input)     \n",
    "\n",
    "else:\n",
    "    print(\"Awww\", user_input, \"You are wrong. You guessed\" , guess_number, \"The correct number is:\" , random_number)"
   ]
  }
 ],
 "metadata": {
  "language_info": {
   "name": "python"
  },
  "orig_nbformat": 4
 },
 "nbformat": 4,
 "nbformat_minor": 2
}
